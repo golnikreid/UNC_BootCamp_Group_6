{
 "cells": [
  {
   "cell_type": "code",
   "execution_count": null,
   "id": "3bc54fa4",
   "metadata": {},
   "outputs": [],
   "source": [
    "## Import dependencies\n",
    "\n",
    "import pandas as pd"
   ]
  },
  {
   "cell_type": "code",
   "execution_count": null,
   "id": "78a2ea3a",
   "metadata": {},
   "outputs": [],
   "source": [
    "## Load red and white wine datasets\n",
    "\n",
    "red_data = pd.read_csv('resources/winequality-red.csv', sep = ';')\n",
    "\n",
    "white_data = pd.read_csv('resources/winequality-white.csv', sep= ';')"
   ]
  },
  {
   "cell_type": "code",
   "execution_count": null,
   "id": "6b80d468",
   "metadata": {},
   "outputs": [],
   "source": [
    "## Create panda dataframes of red/white wine data.\n",
    "\n",
    "red_df = pd.DataFrame(red_data, index=None)\n",
    "\n",
    "white_df = pd.DataFrame(white_data, index=None)"
   ]
  },
  {
   "cell_type": "code",
   "execution_count": null,
   "id": "b8d6835d",
   "metadata": {},
   "outputs": [],
   "source": [
    "## Preview red wine dataframe\n",
    "\n",
    "red_df.head(5)"
   ]
  },
  {
   "cell_type": "code",
   "execution_count": null,
   "id": "c4300441",
   "metadata": {},
   "outputs": [],
   "source": [
    "## Preview white wine dataframe\n",
    "\n",
    "white_df.head(5)"
   ]
  },
  {
   "cell_type": "code",
   "execution_count": null,
   "id": "30e4573c",
   "metadata": {},
   "outputs": [],
   "source": [
    "## Combining red/white wine dateframes into single dataframe\n",
    "\n",
    "wine_df = pd.concat([red_df, white_df], axis=0, ignore_index=True)"
   ]
  },
  {
   "cell_type": "code",
   "execution_count": null,
   "id": "27152fb1",
   "metadata": {},
   "outputs": [],
   "source": [
    "## Preview wine dataframe\n",
    "\n",
    "wine_df.head(20)"
   ]
  },
  {
   "cell_type": "code",
   "execution_count": null,
   "id": "5200f296",
   "metadata": {},
   "outputs": [],
   "source": [
    "## Adding wine_type_id column for indexing\n",
    "\n",
    "wine_df['wine_type_id'] = range(1, len(wine_df) +1)\n",
    "wine_df.head(5)"
   ]
  },
  {
   "cell_type": "code",
   "execution_count": null,
   "id": "81bb9da1",
   "metadata": {},
   "outputs": [],
   "source": [
    "## Set wine_type_id as the index\n",
    "\n",
    "wine_df[\"wine_type_id\"] = wine_df.index\n",
    "wine_df.head(5)"
   ]
  },
  {
   "cell_type": "code",
   "execution_count": null,
   "id": "41b8852d",
   "metadata": {},
   "outputs": [],
   "source": [
    "## Rearrange dataframe to make wine_type_id the first column\n",
    "\n",
    "cols = ['wine_type_id', 'fixed_acidity', 'volatile_acidity', 'citric_acid', 'residual_sugar', 'cholorides', 'free_sulfur_dioxide', 'total_sulfur_dioxide', 'density', 'pH', 'sulphates', 'alcohol', 'quality']\n",
    "wine_df = wine_df[[cols]]\n",
    "wine_df.head(5)"
   ]
  },
  {
   "cell_type": "code",
   "execution_count": null,
   "id": "968570c0",
   "metadata": {},
   "outputs": [],
   "source": [
    "## Preview columns\n",
    "\n",
    "wine_df.count()"
   ]
  },
  {
   "cell_type": "code",
   "execution_count": null,
   "id": "e0b0242f",
   "metadata": {},
   "outputs": [],
   "source": [
    "## Check for any null values\n",
    "\n",
    "wine_df.isnull().sum()"
   ]
  },
  {
   "cell_type": "code",
   "execution_count": null,
   "id": "c8231787",
   "metadata": {},
   "outputs": [],
   "source": [
    "## Checking datatypes\n",
    "\n",
    "wine_df.dtypes"
   ]
  },
  {
   "cell_type": "code",
   "execution_count": null,
   "id": "cd7f01fa",
   "metadata": {},
   "outputs": [],
   "source": [
    "wine_df = wine_df.to_csv(\"resources/combined_wine_equality.csv\")"
   ]
  }
 ],
 "metadata": {
  "kernelspec": {
   "display_name": "PythonData",
   "language": "python",
   "name": "pythondata"
  },
  "language_info": {
   "codemirror_mode": {
    "name": "ipython",
    "version": 3
   },
   "file_extension": ".py",
   "mimetype": "text/x-python",
   "name": "python",
   "nbconvert_exporter": "python",
   "pygments_lexer": "ipython3",
   "version": "3.10.11"
  }
 },
 "nbformat": 4,
 "nbformat_minor": 5
}
